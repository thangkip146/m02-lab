{
 "cells": [
  {
   "cell_type": "code",
   "execution_count": 4,
   "id": "70e02ea3",
   "metadata": {},
   "outputs": [
    {
     "name": "stdout",
     "output_type": "stream",
     "text": [
      "Enter Student's last name.Kip\n",
      "What is your GPA?2.3\n",
      "=\n",
      "Enter Student's last name.John\n",
      "What is your GPA?3.3\n",
      "Congrats, you made it into the Honor Roll\n",
      "=\n",
      "Enter Student's last name.Lola\n",
      "What is your GPA?3.25\n",
      "Congrats, you made it into the Honor Roll\n",
      "=\n",
      "Enter Student's last name.Heather\n",
      "What is your GPA?1.2\n",
      "=\n",
      "Enter Student's last name.Simon\n",
      "What is your GPA?5\n",
      "Congrats, you made it into the Dean's list\n",
      "=\n",
      "Enter Student's last name.ZZZ\n"
     ]
    }
   ],
   "source": [
    "\"\"\"\n",
    "Name: Thang Kip\n",
    "App Name: Student GPA\n",
    "Description: This app took student's GPA and compare them, and\n",
    "decide whether they make it to the Deam's List, or Hornor Roll\n",
    "\"\"\"\n",
    "last_name = input(\"Enter Student's last name.\" )\n",
    "while last_name != 'ZZZ':\n",
    "    gpa = float(input('What is your GPA?'))\n",
    "    if gpa >= 3.5:\n",
    "        print(\"Congrats, you made it into the Dean\\'s list\")\n",
    "    elif gpa >= 3.25:\n",
    "        print('Congrats, you made it into the Honor Roll')\n",
    "    print(\"=\")\n",
    "    last_name = input(\"Enter Student's last name.\" )\n",
    "    \n"
   ]
  },
  {
   "cell_type": "code",
   "execution_count": null,
   "id": "b9a08475",
   "metadata": {},
   "outputs": [],
   "source": []
  }
 ],
 "metadata": {
  "kernelspec": {
   "display_name": "Python 3 (ipykernel)",
   "language": "python",
   "name": "python3"
  },
  "language_info": {
   "codemirror_mode": {
    "name": "ipython",
    "version": 3
   },
   "file_extension": ".py",
   "mimetype": "text/x-python",
   "name": "python",
   "nbconvert_exporter": "python",
   "pygments_lexer": "ipython3",
   "version": "3.9.13"
  }
 },
 "nbformat": 4,
 "nbformat_minor": 5
}
